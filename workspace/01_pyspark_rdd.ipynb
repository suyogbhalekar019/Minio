{
 "cells": [
  {
   "cell_type": "markdown",
   "id": "5a9b93dc-97d4-4296-8fc5-2ea73100187f",
   "metadata": {},
   "source": [
    "# Check MinIO"
   ]
  },
  {
   "cell_type": "code",
   "execution_count": 1,
   "id": "e6927363-ac1c-4de1-ac26-c21b5225d8b6",
   "metadata": {},
   "outputs": [
    {
     "name": "stdout",
     "output_type": "stream",
     "text": [
      "Collecting minio\n",
      "  Downloading minio-7.2.7-py3-none-any.whl (93 kB)\n",
      "\u001b[2K     \u001b[90m━━━━━━━━━━━━━━━━━━━━━━━━━━━━━━━━━━━━━━━\u001b[0m \u001b[32m93.5/93.5 kB\u001b[0m \u001b[31m943.5 kB/s\u001b[0m eta \u001b[36m0:00:00\u001b[0ma \u001b[36m0:00:01\u001b[0m\n",
      "\u001b[?25hCollecting delta-spark==2.4.0\n",
      "  Downloading delta_spark-2.4.0-py3-none-any.whl (20 kB)\n",
      "Requirement already satisfied: pyspark<3.5.0,>=3.4.0 in /usr/local/spark-3.4.0-bin-hadoop3/python (from delta-spark==2.4.0) (3.4.0)\n",
      "Requirement already satisfied: importlib-metadata>=1.0.0 in /opt/conda/lib/python3.9/site-packages (from delta-spark==2.4.0) (4.11.4)\n",
      "Requirement already satisfied: urllib3 in /opt/conda/lib/python3.9/site-packages (from minio) (1.26.11)\n",
      "Requirement already satisfied: argon2-cffi in /opt/conda/lib/python3.9/site-packages (from minio) (21.3.0)\n",
      "Requirement already satisfied: certifi in /opt/conda/lib/python3.9/site-packages (from minio) (2022.9.24)\n",
      "Collecting pycryptodome\n",
      "  Downloading pycryptodome-3.20.0-cp35-abi3-manylinux_2_17_x86_64.manylinux2014_x86_64.whl (2.1 MB)\n",
      "\u001b[2K     \u001b[90m━━━━━━━━━━━━━━━━━━━━━━━━━━━━━━━━━━━━━━━━\u001b[0m \u001b[32m2.1/2.1 MB\u001b[0m \u001b[31m3.3 MB/s\u001b[0m eta \u001b[36m0:00:00\u001b[0m00:01\u001b[0m00:01\u001b[0m\n",
      "\u001b[?25hRequirement already satisfied: typing-extensions in /opt/conda/lib/python3.9/site-packages (from minio) (4.4.0)\n",
      "Requirement already satisfied: zipp>=0.5 in /opt/conda/lib/python3.9/site-packages (from importlib-metadata>=1.0.0->delta-spark==2.4.0) (3.9.0)\n",
      "Collecting py4j==0.10.9.7\n",
      "  Downloading py4j-0.10.9.7-py2.py3-none-any.whl (200 kB)\n",
      "\u001b[2K     \u001b[90m━━━━━━━━━━━━━━━━━━━━━━━━━━━━━━━━━━━━━━━\u001b[0m \u001b[32m200.5/200.5 kB\u001b[0m \u001b[31m4.0 MB/s\u001b[0m eta \u001b[36m0:00:00\u001b[0ma \u001b[36m0:00:01\u001b[0m\n",
      "\u001b[?25hRequirement already satisfied: argon2-cffi-bindings in /opt/conda/lib/python3.9/site-packages (from argon2-cffi->minio) (21.2.0)\n",
      "Requirement already satisfied: cffi>=1.0.1 in /opt/conda/lib/python3.9/site-packages (from argon2-cffi-bindings->argon2-cffi->minio) (1.15.1)\n",
      "Requirement already satisfied: pycparser in /opt/conda/lib/python3.9/site-packages (from cffi>=1.0.1->argon2-cffi-bindings->argon2-cffi->minio) (2.21)\n",
      "Installing collected packages: py4j, pycryptodome, delta-spark, minio\n",
      "Successfully installed delta-spark-2.4.0 minio-7.2.7 py4j-0.10.9.7 pycryptodome-3.20.0\n"
     ]
    }
   ],
   "source": [
    "!pip install minio delta-spark==2.4.0"
   ]
  },
  {
   "cell_type": "code",
   "execution_count": 2,
   "id": "f7b81beb-3b7e-4001-a6a8-962312dff812",
   "metadata": {},
   "outputs": [],
   "source": [
    "from minio import Minio"
   ]
  },
  {
   "cell_type": "code",
   "execution_count": 3,
   "id": "c59a8874-f0e7-4c62-a393-4eef43aa00b2",
   "metadata": {},
   "outputs": [
    {
     "name": "stdout",
     "output_type": "stream",
     "text": [
      "warehouse exists\n"
     ]
    }
   ],
   "source": [
    "client = Minio(\n",
    "    \"minio:9000\",\n",
    "    access_key=\"minio\",\n",
    "    secret_key=\"minio123\",\n",
    "    secure=False\n",
    ")\n",
    "\n",
    "bucket = \"warehouse\"\n",
    "if client.bucket_exists(bucket):\n",
    "    print(f\"{bucket} exists\")\n"
   ]
  },
  {
   "cell_type": "code",
   "execution_count": null,
   "id": "30647709-5bc4-496b-9af4-9194bc605be8",
   "metadata": {},
   "outputs": [],
   "source": []
  },
  {
   "cell_type": "markdown",
   "id": "022f6925-7844-4d82-8ba8-eae463234478",
   "metadata": {},
   "source": [
    "# Init SparkContext"
   ]
  },
  {
   "cell_type": "code",
   "execution_count": 4,
   "id": "b623fc16-76c2-44e7-9a41-7dfeff53c830",
   "metadata": {},
   "outputs": [],
   "source": [
    "from datetime import datetime\n",
    "from pyspark import SparkContext\n",
    "from pyspark.sql import SparkSession, SQLContext"
   ]
  },
  {
   "cell_type": "code",
   "execution_count": 5,
   "id": "10b3c8dc-ea9f-43b8-ac3b-f321e31f4c12",
   "metadata": {
    "scrolled": true,
    "tags": []
   },
   "outputs": [
    {
     "name": "stderr",
     "output_type": "stream",
     "text": [
      "/usr/local/spark/python/pyspark/sql/context.py:112: FutureWarning: Deprecated in 3.0.0. Use SparkSession.builder.getOrCreate() instead.\n",
      "  warnings.warn(\n"
     ]
    },
    {
     "data": {
      "text/plain": [
       "[('spark.hadoop.fs.s3a.connection.ssl.enabled', 'false'),\n",
       " ('spark.hadoop.fs.s3a.access.key', 'minio'),\n",
       " ('spark.driver.port', '43960'),\n",
       " ('spark.hadoop.fs.s3a.path.style.access', 'true'),\n",
       " ('spark.app.startTime', '1722516401004'),\n",
       " ('spark.repl.local.jars',\n",
       "  'file:///usr/local/spark-3.4.0-bin-hadoop3/jars/delta-core_2.12-2.4.0.jar,file:///usr/local/spark-3.4.0-bin-hadoop3/jars/hadoop-aws-3.3.2.jar,file:///usr/local/spark-3.4.0-bin-hadoop3/jars/delta-storage-2.4.0.jar,file:///usr/local/spark-3.4.0-bin-hadoop3/jars/aws-java-sdk-1.12.507.jar,file:///usr/local/spark-3.4.0-bin-hadoop3/jars/s3-2.20.40.jar,file:///usr/local/spark-3.4.0-bin-hadoop3/jars/aws-java-sdk-bundle-1.11.1026.jar'),\n",
       " ('spark.executor.id', 'driver'),\n",
       " ('spark.jars',\n",
       "  'file:///usr/local/spark-3.4.0-bin-hadoop3/jars/delta-core_2.12-2.4.0.jar,file:///usr/local/spark-3.4.0-bin-hadoop3/jars/hadoop-aws-3.3.2.jar,file:///usr/local/spark-3.4.0-bin-hadoop3/jars/delta-storage-2.4.0.jar,file:///usr/local/spark-3.4.0-bin-hadoop3/jars/aws-java-sdk-1.12.507.jar,file:///usr/local/spark-3.4.0-bin-hadoop3/jars/s3-2.20.40.jar,file:///usr/local/spark-3.4.0-bin-hadoop3/jars/aws-java-sdk-bundle-1.11.1026.jar'),\n",
       " ('spark.driver.extraJavaOptions',\n",
       "  '-Djava.net.preferIPv6Addresses=false -XX:+IgnoreUnrecognizedVMOptions --add-opens=java.base/java.lang=ALL-UNNAMED --add-opens=java.base/java.lang.invoke=ALL-UNNAMED --add-opens=java.base/java.lang.reflect=ALL-UNNAMED --add-opens=java.base/java.io=ALL-UNNAMED --add-opens=java.base/java.net=ALL-UNNAMED --add-opens=java.base/java.nio=ALL-UNNAMED --add-opens=java.base/java.util=ALL-UNNAMED --add-opens=java.base/java.util.concurrent=ALL-UNNAMED --add-opens=java.base/java.util.concurrent.atomic=ALL-UNNAMED --add-opens=java.base/sun.nio.ch=ALL-UNNAMED --add-opens=java.base/sun.nio.cs=ALL-UNNAMED --add-opens=java.base/sun.security.action=ALL-UNNAMED --add-opens=java.base/sun.util.calendar=ALL-UNNAMED --add-opens=java.security.jgss/sun.security.krb5=ALL-UNNAMED -Djdk.reflect.useDirectMethodHandle=false'),\n",
       " ('spark.app.id', 'app-20240801124641-0000'),\n",
       " ('spark.app.initial.jar.urls',\n",
       "  'spark://03015b63e817:43960/jars/hadoop-aws-3.3.2.jar,spark://03015b63e817:43960/jars/s3-2.20.40.jar,spark://03015b63e817:43960/jars/aws-java-sdk-bundle-1.11.1026.jar,spark://03015b63e817:43960/jars/delta-storage-2.4.0.jar,spark://03015b63e817:43960/jars/aws-java-sdk-1.12.507.jar,spark://03015b63e817:43960/jars/delta-core_2.12-2.4.0.jar'),\n",
       " ('spark.hadoop.fs.s3a.impl', 'org.apache.hadoop.fs.s3a.S3AFileSystem'),\n",
       " ('spark.sql.extensions', 'io.delta.sql.DeltaSparkSessionExtension'),\n",
       " ('spark.rdd.compress', 'True'),\n",
       " ('spark.driver.host', '03015b63e817'),\n",
       " ('spark.master', 'spark://spark-master:7077'),\n",
       " ('spark.serializer.objectStreamReset', '100'),\n",
       " ('spark.submit.pyFiles', ''),\n",
       " ('spark.submit.deployMode', 'client'),\n",
       " ('spark.hadoop.fs.s3a.endpoint', 'http://minio:9000'),\n",
       " ('spark.hadoop.fs.s3a.secret.key', 'minio123'),\n",
       " ('spark.app.submitTime', '1722516400878'),\n",
       " ('spark.ui.showConsoleProgress', 'true'),\n",
       " ('spark.app.name', 'pyspark-rdd-demo-2024-08-01 12:46:39.114254'),\n",
       " ('spark.sql.catalog.spark_catalog',\n",
       "  'org.apache.spark.sql.delta.catalog.DeltaCatalog'),\n",
       " ('spark.executor.extraJavaOptions',\n",
       "  '-Djava.net.preferIPv6Addresses=false -XX:+IgnoreUnrecognizedVMOptions --add-opens=java.base/java.lang=ALL-UNNAMED --add-opens=java.base/java.lang.invoke=ALL-UNNAMED --add-opens=java.base/java.lang.reflect=ALL-UNNAMED --add-opens=java.base/java.io=ALL-UNNAMED --add-opens=java.base/java.net=ALL-UNNAMED --add-opens=java.base/java.nio=ALL-UNNAMED --add-opens=java.base/java.util=ALL-UNNAMED --add-opens=java.base/java.util.concurrent=ALL-UNNAMED --add-opens=java.base/java.util.concurrent.atomic=ALL-UNNAMED --add-opens=java.base/sun.nio.ch=ALL-UNNAMED --add-opens=java.base/sun.nio.cs=ALL-UNNAMED --add-opens=java.base/sun.security.action=ALL-UNNAMED --add-opens=java.base/sun.util.calendar=ALL-UNNAMED --add-opens=java.security.jgss/sun.security.krb5=ALL-UNNAMED -Djdk.reflect.useDirectMethodHandle=false')]"
      ]
     },
     "execution_count": 5,
     "metadata": {},
     "output_type": "execute_result"
    }
   ],
   "source": [
    "spark = (SparkSession.builder.appName(\"pyspark-rdd-demo-{}\".format(datetime.today()))\n",
    "        .master(\"spark://spark-master:7077\")      \n",
    "        .getOrCreate())\n",
    "\n",
    "sqlContext = SQLContext(spark)\n",
    "spark.sparkContext.getConf().getAll()\n"
   ]
  },
  {
   "cell_type": "code",
   "execution_count": 6,
   "id": "f14869d2-772c-4120-a37d-cd4d21790016",
   "metadata": {},
   "outputs": [
    {
     "data": {
      "text/html": [
       "\n",
       "        <div>\n",
       "            <p><b>SparkContext</b></p>\n",
       "\n",
       "            <p><a href=\"http://03015b63e817:4040\">Spark UI</a></p>\n",
       "\n",
       "            <dl>\n",
       "              <dt>Version</dt>\n",
       "                <dd><code>v3.4.0</code></dd>\n",
       "              <dt>Master</dt>\n",
       "                <dd><code>spark://spark-master:7077</code></dd>\n",
       "              <dt>AppName</dt>\n",
       "                <dd><code>pyspark-rdd-demo-2024-08-01 12:46:39.114254</code></dd>\n",
       "            </dl>\n",
       "        </div>\n",
       "        "
      ],
      "text/plain": [
       "<SparkContext master=spark://spark-master:7077 appName=pyspark-rdd-demo-2024-08-01 12:46:39.114254>"
      ]
     },
     "execution_count": 6,
     "metadata": {},
     "output_type": "execute_result"
    }
   ],
   "source": [
    "sc = spark.sparkContext\n",
    "sc"
   ]
  },
  {
   "cell_type": "code",
   "execution_count": 7,
   "id": "d70ca7bb-0817-46a9-8e2e-927444f69193",
   "metadata": {
    "scrolled": true,
    "tags": []
   },
   "outputs": [],
   "source": [
    "# test Delta Lake\n",
    "spark.range(50).write.format(\"delta\").save(\"s3a://warehouse/deltafile\", mode=\"overwrite\")"
   ]
  },
  {
   "cell_type": "code",
   "execution_count": null,
   "id": "d712aebf-b563-4ef6-be81-423b43064146",
   "metadata": {},
   "outputs": [],
   "source": []
  },
  {
   "cell_type": "markdown",
   "id": "d22f7a00-4276-41ca-bc68-3a187e74bd0a",
   "metadata": {},
   "source": [
    "# Create RDDs"
   ]
  },
  {
   "cell_type": "markdown",
   "id": "95203fef-0e9c-4455-b54d-8d2c814ca58a",
   "metadata": {},
   "source": [
    "## By loading dataset"
   ]
  },
  {
   "cell_type": "code",
   "execution_count": 8,
   "id": "3d050ebd-42ce-4dcc-ab67-f831a11bbea6",
   "metadata": {},
   "outputs": [
    {
     "data": {
      "text/plain": [
       "s3a://warehouse/testfile.txt MapPartitionsRDD[29] at textFile at NativeMethodAccessorImpl.java:0"
      ]
     },
     "execution_count": 8,
     "metadata": {},
     "output_type": "execute_result"
    }
   ],
   "source": [
    "fdd = sc.textFile(\"s3a://warehouse/testfile.txt\")\n",
    "fdd"
   ]
  },
  {
   "cell_type": "code",
   "execution_count": 9,
   "id": "a1388580-df3b-43a4-b1a1-5bdcd6b05c39",
   "metadata": {},
   "outputs": [
    {
     "data": {
      "text/plain": [
       "2"
      ]
     },
     "execution_count": 9,
     "metadata": {},
     "output_type": "execute_result"
    }
   ],
   "source": [
    "fdd.getNumPartitions()"
   ]
  },
  {
   "cell_type": "code",
   "execution_count": 10,
   "id": "f55d7bcd-3eb1-41ec-ac7d-b847f46b6b33",
   "metadata": {},
   "outputs": [
    {
     "data": {
      "text/plain": [
       "16"
      ]
     },
     "execution_count": 10,
     "metadata": {},
     "output_type": "execute_result"
    }
   ],
   "source": [
    "fdd.count()"
   ]
  },
  {
   "cell_type": "code",
   "execution_count": 11,
   "id": "01f76cce-bee4-42f3-8e7a-b77aab2ba977",
   "metadata": {},
   "outputs": [
    {
     "data": {
      "text/plain": [
       "10"
      ]
     },
     "execution_count": 11,
     "metadata": {},
     "output_type": "execute_result"
    }
   ],
   "source": [
    "fdd = fdd.repartition(10)\n",
    "fdd.getNumPartitions()"
   ]
  },
  {
   "cell_type": "code",
   "execution_count": 12,
   "id": "f278e1c3-1ed8-4430-ab4a-6414d7aa806a",
   "metadata": {},
   "outputs": [
    {
     "data": {
      "text/plain": [
       "16"
      ]
     },
     "execution_count": 12,
     "metadata": {},
     "output_type": "execute_result"
    }
   ],
   "source": [
    "fdd.count()"
   ]
  },
  {
   "cell_type": "code",
   "execution_count": 13,
   "id": "046bf7c6-9295-4ffa-8470-42ea20401ba0",
   "metadata": {},
   "outputs": [
    {
     "data": {
      "text/plain": [
       "['Contrary to popular belief, Lorem Ipsum is not simply random text. It has roots in a piece of classical Latin literature from 45 BC, making it over 2000 years old. Richard McClintock, a Latin professor at Hampden-Sydney College in Virginia, looked up one of the more obscure Latin words, consectetur, from a Lorem Ipsum passage, and going through the cites of the word in classical literature, discovered the undoubtable source. Lorem Ipsum comes from sections 1.10.32 and 1.10.33 of \"de Finibus Bonorum et Malorum\" (The Extremes of Good and Evil) by Cicero, written in 45 BC. This book is a treatise on the theory of ethics, very popular during the Renaissance. The first line of Lorem Ipsum, \"Lorem ipsum dolor sit amet..\", comes from a line in section 1.10.32.',\n",
       " '',\n",
       " 'The standard chunk of Lorem Ipsum used since the 1500s is reproduced below for those interested. Sections 1.10.32 and 1.10.33 from \"de Finibus Bonorum et Malorum\" by Cicero are also reproduced in their exact original form, accompanied by English versions from the 1914 translation by H. Rackham.',\n",
       " 'Where can I get some?',\n",
       " '',\n",
       " \"There are many variations of passages of Lorem Ipsum available, but the majority have suffered alteration in some form, by injected humour, or randomised words which don't look even slightly believable. If you are going to use a passage of Lorem Ipsum, you need to be sure there isn't anything embarrassing hidden in the middle of text. All the Lorem Ipsum generators on the Internet tend to repeat predefined chunks as necessary, making this the first true generator on the Internet. It uses a dictionary of over 200 Latin words, combined with a handful of model sentence structures, to generate Lorem Ipsum which looks reasonable. The generated Lorem Ipsum is therefore always free from repetition, injected humour, or non-characteristic words etc.\",\n",
       " '',\n",
       " 'What is Lorem Ipsum?',\n",
       " '',\n",
       " \"Lorem Ipsum is simply dummy text of the printing and typesetting industry. Lorem Ipsum has been the industry's standard dummy text ever since the 1500s, when an unknown printer took a galley of type and scrambled it to make a type specimen book. It has survived not only five centuries, but also the leap into electronic typesetting, remaining essentially unchanged. It was popularised in the 1960s with the release of Letraset sheets containing Lorem Ipsum passages, and more recently with desktop publishing software like Aldus PageMaker including versions of Lorem Ipsum.\",\n",
       " 'Why do we use it?',\n",
       " '',\n",
       " \"It is a long established fact that a reader will be distracted by the readable content of a page when looking at its layout. The point of using Lorem Ipsum is that it has a more-or-less normal distribution of letters, as opposed to using 'Content here, content here', making it look like readable English. Many desktop publishing packages and web page editors now use Lorem Ipsum as their default model text, and a search for 'lorem ipsum' will uncover many web sites still in their infancy. Various versions have evolved over the years, sometimes by accident, sometimes on purpose (injected humour and the like).\",\n",
       " '',\n",
       " 'Where does it come from?',\n",
       " '']"
      ]
     },
     "execution_count": 13,
     "metadata": {},
     "output_type": "execute_result"
    }
   ],
   "source": [
    "fdd.collect()"
   ]
  },
  {
   "cell_type": "code",
   "execution_count": 14,
   "id": "be543565-e381-4956-b8fa-f7a73a2b11c5",
   "metadata": {
    "scrolled": true,
    "tags": []
   },
   "outputs": [
    {
     "data": {
      "text/plain": [
       "[('is', 8),\n",
       " ('of', 21),\n",
       " ('45', 2),\n",
       " ('making', 3),\n",
       " ('at', 2),\n",
       " ('Hampden-Sydney', 1),\n",
       " ('looked', 1),\n",
       " ('Evil)', 1),\n",
       " ('treatise', 1),\n",
       " ('The', 4),\n",
       " ('line', 2),\n",
       " (\"industry's\", 1),\n",
       " ('an', 1),\n",
       " ('galley', 1),\n",
       " ('was', 1),\n",
       " ('passages,', 1),\n",
       " ('point', 1),\n",
       " ('letters,', 1),\n",
       " (\"here',\", 1),\n",
       " ('look', 2),\n",
       " ('default', 1),\n",
       " ('have', 2),\n",
       " ('sometimes', 2),\n",
       " ('interested.', 1),\n",
       " ('some?', 1),\n",
       " ('anything', 1),\n",
       " ('hidden', 1),\n",
       " ('necessary,', 1),\n",
       " ('true', 1),\n",
       " ('handful', 1),\n",
       " ('free', 1),\n",
       " ('standard', 2),\n",
       " ('1500s', 1),\n",
       " ('Sections', 1),\n",
       " ('and', 10),\n",
       " ('et', 2),\n",
       " ('by', 7),\n",
       " ('available,', 1),\n",
       " ('humour,', 2),\n",
       " ('which', 2),\n",
       " (\"don't\", 1),\n",
       " ('you', 2),\n",
       " ('predefined', 1),\n",
       " ('generator', 1),\n",
       " ('Internet.', 1),\n",
       " ('belief,', 1),\n",
       " ('simply', 2),\n",
       " ('random', 1),\n",
       " ('old.', 1),\n",
       " ('amet..\",', 1),\n",
       " ('five', 1),\n",
       " ('Ipsum.', 1),\n",
       " ('normal', 1),\n",
       " ('web', 2),\n",
       " ('evolved', 1),\n",
       " ('in', 10),\n",
       " ('Latin', 4),\n",
       " ('Bonorum', 2),\n",
       " ('(The', 1),\n",
       " ('printing', 1),\n",
       " ('1500s,', 1),\n",
       " ('unknown', 1),\n",
       " ('type', 2),\n",
       " ('desktop', 2),\n",
       " ('PageMaker', 1),\n",
       " ('we', 1),\n",
       " ('use', 3),\n",
       " ('long', 1),\n",
       " ('distracted', 1),\n",
       " (\"'Content\", 1),\n",
       " ('text,', 1),\n",
       " ('search', 1),\n",
       " ('uncover', 1),\n",
       " ('English', 1),\n",
       " ('injected', 2),\n",
       " ('believable.', 1),\n",
       " ('middle', 1),\n",
       " ('repeat', 1),\n",
       " ('this', 1),\n",
       " ('repetition,', 1),\n",
       " ('non-characteristic', 1),\n",
       " ('since', 2),\n",
       " ('1.10.32', 2),\n",
       " ('\"de', 2),\n",
       " ('Cicero', 1),\n",
       " ('also', 2),\n",
       " ('original', 1),\n",
       " ('1914', 1),\n",
       " ('translation', 1),\n",
       " ('I', 1),\n",
       " ('get', 1),\n",
       " ('variations', 1),\n",
       " ('or', 2),\n",
       " ('slightly', 1),\n",
       " ('passage', 1),\n",
       " ('be', 2),\n",
       " ('first', 2),\n",
       " ('sentence', 1),\n",
       " ('not', 2),\n",
       " ('piece', 1),\n",
       " ('it', 5),\n",
       " ('2000', 1),\n",
       " ('passage,', 1),\n",
       " ('cites', 1),\n",
       " ('source.', 1),\n",
       " ('sit', 1),\n",
       " ('section', 1),\n",
       " ('centuries,', 1),\n",
       " ('leap', 1),\n",
       " ('sheets', 1),\n",
       " ('software', 1),\n",
       " ('Why', 1),\n",
       " ('reader', 1),\n",
       " ('content', 2),\n",
       " ('its', 1),\n",
       " ('layout.', 1),\n",
       " ('more-or-less', 1),\n",
       " ('Many', 1),\n",
       " ('editors', 1),\n",
       " ('accident,', 1),\n",
       " ('Ipsum', 13),\n",
       " ('BC,', 1),\n",
       " ('more', 2),\n",
       " ('literature,', 1),\n",
       " ('undoubtable', 1),\n",
       " ('Extremes', 1),\n",
       " ('very', 1),\n",
       " ('typesetting', 1),\n",
       " ('make', 1),\n",
       " ('typesetting,', 1),\n",
       " ('remaining', 1),\n",
       " ('1960s', 1),\n",
       " ('here,', 1),\n",
       " ('now', 1),\n",
       " (\"ipsum'\", 1),\n",
       " ('infancy.', 1),\n",
       " ('Various', 1),\n",
       " ('like).', 1),\n",
       " ('chunk', 1),\n",
       " ('are', 3),\n",
       " ('form,', 2),\n",
       " ('Rackham.', 1),\n",
       " ('alteration', 1),\n",
       " ('even', 1),\n",
       " ('there', 1),\n",
       " ('embarrassing', 1),\n",
       " ('generate', 1),\n",
       " ('reproduced', 2),\n",
       " ('1.10.33', 2),\n",
       " ('their', 3),\n",
       " ('exact', 1),\n",
       " ('to', 7),\n",
       " ('text.', 2),\n",
       " ('on', 4),\n",
       " ('chunks', 1),\n",
       " ('200', 1),\n",
       " ('combined', 1),\n",
       " ('structures,', 1),\n",
       " ('therefore', 1),\n",
       " ('Contrary', 1),\n",
       " ('has', 4),\n",
       " ('roots', 1),\n",
       " ('Richard', 1),\n",
       " ('one', 1),\n",
       " ('consectetur,', 1),\n",
       " ('word', 1),\n",
       " ('written', 1),\n",
       " ('\"Lorem', 1),\n",
       " ('industry.', 1),\n",
       " ('specimen', 1),\n",
       " ('unchanged.', 1),\n",
       " ('release', 1),\n",
       " ('Letraset', 1),\n",
       " ('publishing', 2),\n",
       " ('it?', 1),\n",
       " ('fact', 1),\n",
       " ('readable', 2),\n",
       " ('English.', 1),\n",
       " ('packages', 1),\n",
       " ('purpose', 1),\n",
       " ('(injected', 1),\n",
       " ('does', 1),\n",
       " ('come', 1),\n",
       " ('It', 5),\n",
       " ('classical', 2),\n",
       " ('years', 1),\n",
       " ('Finibus', 2),\n",
       " ('Malorum\"', 2),\n",
       " ('What', 1),\n",
       " ('dummy', 2),\n",
       " ('when', 2),\n",
       " ('book.', 1),\n",
       " ('but', 2),\n",
       " ('like', 2),\n",
       " ('versions', 3),\n",
       " ('do', 1),\n",
       " ('page', 2),\n",
       " ('using', 2),\n",
       " ('distribution', 1),\n",
       " ('years,', 1),\n",
       " ('passages', 1),\n",
       " ('sure', 1),\n",
       " ('generators', 1),\n",
       " ('generated', 1),\n",
       " ('etc.', 1),\n",
       " ('the', 23),\n",
       " ('for', 2),\n",
       " ('accompanied', 1),\n",
       " ('Where', 2),\n",
       " ('There', 1),\n",
       " ('suffered', 1),\n",
       " ('some', 1),\n",
       " ('randomised', 1),\n",
       " ('If', 1),\n",
       " ('going', 2),\n",
       " (\"isn't\", 1),\n",
       " ('All', 1),\n",
       " ('words,', 2),\n",
       " ('reasonable.', 1),\n",
       " ('popular', 2),\n",
       " ('literature', 1),\n",
       " ('McClintock,', 1),\n",
       " ('Virginia,', 1),\n",
       " ('up', 1),\n",
       " ('obscure', 1),\n",
       " ('BC.', 1),\n",
       " ('Ipsum?', 1),\n",
       " ('text', 2),\n",
       " ('been', 1),\n",
       " ('printer', 1),\n",
       " ('electronic', 1),\n",
       " ('popularised', 1),\n",
       " ('recently', 1),\n",
       " ('that', 2),\n",
       " ('will', 2),\n",
       " ('opposed', 1),\n",
       " (\"'lorem\", 1),\n",
       " ('sites', 1),\n",
       " ('still', 1),\n",
       " ('Lorem', 17),\n",
       " ('College', 1),\n",
       " ('sections', 1),\n",
       " ('Good', 1),\n",
       " ('Cicero,', 1),\n",
       " ('book', 1),\n",
       " ('during', 1),\n",
       " ('Renaissance.', 1),\n",
       " ('Ipsum,', 2),\n",
       " ('ipsum', 1),\n",
       " ('ever', 1),\n",
       " ('took', 1),\n",
       " ('only', 1),\n",
       " ('into', 1),\n",
       " ('essentially', 1),\n",
       " ('Aldus', 1),\n",
       " ('established', 1),\n",
       " ('looking', 1),\n",
       " ('as', 3),\n",
       " ('model', 2),\n",
       " ('humour', 1),\n",
       " ('used', 1),\n",
       " ('below', 1),\n",
       " ('uses', 1),\n",
       " ('dictionary', 1),\n",
       " ('looks', 1),\n",
       " ('always', 1),\n",
       " ('those', 1),\n",
       " ('from', 7),\n",
       " ('H.', 1),\n",
       " ('can', 1),\n",
       " ('many', 2),\n",
       " ('majority', 1),\n",
       " ('words', 2),\n",
       " ('a', 15),\n",
       " ('need', 1),\n",
       " ('Internet', 1),\n",
       " ('tend', 1),\n",
       " ('over', 3),\n",
       " ('with', 3),\n",
       " ('professor', 1),\n",
       " ('through', 1),\n",
       " ('discovered', 1),\n",
       " ('comes', 2),\n",
       " ('This', 1),\n",
       " ('theory', 1),\n",
       " ('ethics,', 1),\n",
       " ('dolor', 1),\n",
       " ('1.10.32.', 1),\n",
       " ('scrambled', 1),\n",
       " ('survived', 1),\n",
       " ('containing', 1),\n",
       " ('including', 1),\n",
       " ('from?', 1)]"
      ]
     },
     "execution_count": 14,
     "metadata": {},
     "output_type": "execute_result"
    }
   ],
   "source": [
    "# split lines into words\n",
    "words = fdd.flatMap(lambda line: line.split())\n",
    "\n",
    "# count the occurrences of each word\n",
    "word_counts = words.map(lambda word: (word, 1)).reduceByKey(lambda a, b: a + b)\n",
    "word_counts.collect()"
   ]
  },
  {
   "cell_type": "code",
   "execution_count": 15,
   "id": "763ceea7-df4f-4891-b2a0-68622195a3df",
   "metadata": {
    "scrolled": true,
    "tags": []
   },
   "outputs": [
    {
     "data": {
      "text/plain": [
       "[('of', 6),\n",
       " ('have', 1),\n",
       " ('look', 1),\n",
       " ('anything', 1),\n",
       " ('hidden', 1),\n",
       " ('necessary,', 1),\n",
       " ('making', 1),\n",
       " ('true', 1),\n",
       " ('handful', 1),\n",
       " ('The', 1),\n",
       " ('is', 1),\n",
       " ('free', 1),\n",
       " ('available,', 1),\n",
       " ('by', 1),\n",
       " ('humour,', 2),\n",
       " ('which', 2),\n",
       " (\"don't\", 1),\n",
       " ('you', 2),\n",
       " ('predefined', 1),\n",
       " ('generator', 1),\n",
       " ('Internet.', 1),\n",
       " ('in', 2),\n",
       " ('injected', 2),\n",
       " ('believable.', 1),\n",
       " ('use', 1),\n",
       " ('middle', 1),\n",
       " ('repeat', 1),\n",
       " ('this', 1),\n",
       " ('Latin', 1),\n",
       " ('repetition,', 1),\n",
       " ('non-characteristic', 1),\n",
       " ('variations', 1),\n",
       " ('or', 2),\n",
       " ('slightly', 1),\n",
       " ('passage', 1),\n",
       " ('be', 1),\n",
       " ('first', 1),\n",
       " ('sentence', 1),\n",
       " ('are', 2),\n",
       " ('Ipsum', 4),\n",
       " ('alteration', 1),\n",
       " ('form,', 1),\n",
       " ('even', 1),\n",
       " ('there', 1),\n",
       " ('embarrassing', 1),\n",
       " ('generate', 1),\n",
       " ('to', 4),\n",
       " ('text.', 1),\n",
       " ('on', 2),\n",
       " ('chunks', 1),\n",
       " ('200', 1),\n",
       " ('combined', 1),\n",
       " ('structures,', 1),\n",
       " ('therefore', 1),\n",
       " ('passages', 1),\n",
       " ('but', 1),\n",
       " ('sure', 1),\n",
       " ('generators', 1),\n",
       " ('It', 1),\n",
       " ('generated', 1),\n",
       " ('etc.', 1),\n",
       " ('There', 1),\n",
       " ('the', 6),\n",
       " ('suffered', 1),\n",
       " ('some', 1),\n",
       " ('randomised', 1),\n",
       " ('If', 1),\n",
       " ('going', 1),\n",
       " (\"isn't\", 1),\n",
       " ('All', 1),\n",
       " ('words,', 1),\n",
       " ('reasonable.', 1),\n",
       " ('Lorem', 5),\n",
       " ('Ipsum,', 1),\n",
       " ('as', 1),\n",
       " ('uses', 1),\n",
       " ('dictionary', 1),\n",
       " ('model', 1),\n",
       " ('looks', 1),\n",
       " ('always', 1),\n",
       " ('many', 1),\n",
       " ('majority', 1),\n",
       " ('words', 2),\n",
       " ('a', 3),\n",
       " ('need', 1),\n",
       " ('Internet', 1),\n",
       " ('tend', 1),\n",
       " ('over', 1),\n",
       " ('with', 1),\n",
       " ('from', 1)]"
      ]
     },
     "execution_count": 15,
     "metadata": {},
     "output_type": "execute_result"
    }
   ],
   "source": [
    "# filter and split lines into words\n",
    "words_2 = fdd.filter(lambda x: \"There are\" in x).flatMap(lambda line: line.split())\n",
    "\n",
    "# count the occurrences of each word\n",
    "word_counts_2 = words_2.map(lambda word: (word, 1)).reduceByKey(lambda a, b: a + b)\n",
    "word_counts_2.collect()"
   ]
  },
  {
   "cell_type": "code",
   "execution_count": 16,
   "id": "f2ee3168-f77c-4051-a690-a70e6297156a",
   "metadata": {},
   "outputs": [
    {
     "data": {
      "text/plain": [
       "[('The', (4, 1)),\n",
       " ('of', (21, 6)),\n",
       " ('is', (8, 1)),\n",
       " ('have', (2, 1)),\n",
       " ('look', (2, 1)),\n",
       " ('anything', (1, 1)),\n",
       " ('hidden', (1, 1)),\n",
       " ('necessary,', (1, 1)),\n",
       " ('making', (3, 1)),\n",
       " ('true', (1, 1)),\n",
       " ('handful', (1, 1)),\n",
       " ('free', (1, 1)),\n",
       " ('by', (7, 1)),\n",
       " ('available,', (1, 1)),\n",
       " ('humour,', (2, 2)),\n",
       " ('which', (2, 2)),\n",
       " (\"don't\", (1, 1)),\n",
       " ('you', (2, 2)),\n",
       " ('predefined', (1, 1)),\n",
       " ('generator', (1, 1)),\n",
       " ('Internet.', (1, 1)),\n",
       " ('in', (10, 2)),\n",
       " ('injected', (2, 2)),\n",
       " ('believable.', (1, 1)),\n",
       " ('use', (3, 1)),\n",
       " ('middle', (1, 1)),\n",
       " ('repeat', (1, 1)),\n",
       " ('this', (1, 1)),\n",
       " ('Latin', (4, 1)),\n",
       " ('repetition,', (1, 1)),\n",
       " ('non-characteristic', (1, 1)),\n",
       " ('variations', (1, 1)),\n",
       " ('or', (2, 2)),\n",
       " ('slightly', (1, 1)),\n",
       " ('passage', (1, 1)),\n",
       " ('be', (2, 1)),\n",
       " ('first', (2, 1)),\n",
       " ('sentence', (1, 1)),\n",
       " ('Ipsum', (13, 4)),\n",
       " ('are', (3, 2)),\n",
       " ('form,', (2, 1)),\n",
       " ('alteration', (1, 1)),\n",
       " ('even', (1, 1)),\n",
       " ('there', (1, 1)),\n",
       " ('embarrassing', (1, 1)),\n",
       " ('generate', (1, 1)),\n",
       " ('to', (7, 4)),\n",
       " ('text.', (2, 1)),\n",
       " ('on', (4, 2)),\n",
       " ('chunks', (1, 1)),\n",
       " ('200', (1, 1)),\n",
       " ('combined', (1, 1)),\n",
       " ('structures,', (1, 1)),\n",
       " ('therefore', (1, 1)),\n",
       " ('passages', (1, 1)),\n",
       " ('but', (2, 1)),\n",
       " ('sure', (1, 1)),\n",
       " ('generators', (1, 1)),\n",
       " ('It', (5, 1)),\n",
       " ('generated', (1, 1)),\n",
       " ('etc.', (1, 1)),\n",
       " ('the', (23, 6)),\n",
       " ('There', (1, 1)),\n",
       " ('suffered', (1, 1)),\n",
       " ('some', (1, 1)),\n",
       " ('randomised', (1, 1)),\n",
       " ('If', (1, 1)),\n",
       " ('going', (2, 1)),\n",
       " (\"isn't\", (1, 1)),\n",
       " ('All', (1, 1)),\n",
       " ('words,', (2, 1)),\n",
       " ('reasonable.', (1, 1)),\n",
       " ('Lorem', (17, 5)),\n",
       " ('Ipsum,', (2, 1)),\n",
       " ('as', (3, 1)),\n",
       " ('uses', (1, 1)),\n",
       " ('dictionary', (1, 1)),\n",
       " ('model', (2, 1)),\n",
       " ('looks', (1, 1)),\n",
       " ('always', (1, 1)),\n",
       " ('from', (7, 1)),\n",
       " ('many', (2, 1)),\n",
       " ('majority', (1, 1)),\n",
       " ('words', (2, 2)),\n",
       " ('a', (15, 3)),\n",
       " ('need', (1, 1)),\n",
       " ('Internet', (1, 1)),\n",
       " ('tend', (1, 1)),\n",
       " ('over', (3, 1)),\n",
       " ('with', (3, 1))]"
      ]
     },
     "execution_count": 16,
     "metadata": {},
     "output_type": "execute_result"
    }
   ],
   "source": [
    "word_counts.join(word_counts_2).collect()"
   ]
  },
  {
   "cell_type": "code",
   "execution_count": 17,
   "id": "341d8782-e026-4d2f-b087-d7edd44bb320",
   "metadata": {},
   "outputs": [
    {
     "data": {
      "text/plain": [
       "[(2, ('world', 'baz')), (1, ('hello', 'bar'))]"
      ]
     },
     "execution_count": 17,
     "metadata": {},
     "output_type": "execute_result"
    }
   ],
   "source": [
    "# create two RDDs with key-value pairs\n",
    "rdd1 = sc.parallelize([(1, \"hello\"), (2, \"world\"), (3, \"foo\")], 1)\n",
    "rdd2 = sc.parallelize([(1, \"bar\"), (2, \"baz\"), (4, \"qux\")], 1)\n",
    "\n",
    "# perform a join on the two RDDs\n",
    "rdd_joined = rdd1.join(rdd2)\n",
    "\n",
    "# print the result\n",
    "rdd_joined.collect()"
   ]
  },
  {
   "cell_type": "code",
   "execution_count": null,
   "id": "6b28d6e6",
   "metadata": {},
   "outputs": [],
   "source": []
  },
  {
   "cell_type": "markdown",
   "id": "fdd92620-5109-4638-bd75-c5024c876e80",
   "metadata": {},
   "source": [
    "## By using parallelize"
   ]
  },
  {
   "cell_type": "code",
   "execution_count": 18,
   "id": "418feb28-01db-4938-ac5e-ac5a1f3701a4",
   "metadata": {},
   "outputs": [
    {
     "data": {
      "text/plain": [
       "ParallelCollectionRDD[61] at readRDDFromFile at PythonRDD.scala:287"
      ]
     },
     "execution_count": 18,
     "metadata": {},
     "output_type": "execute_result"
    }
   ],
   "source": [
    "data = [1, 2, 3, 3]\n",
    "rdd = sc.parallelize(data, 2)\n",
    "rdd"
   ]
  },
  {
   "cell_type": "code",
   "execution_count": 19,
   "id": "7c599e2d-f444-41f5-914f-161137d29df1",
   "metadata": {},
   "outputs": [
    {
     "data": {
      "text/plain": [
       "2"
      ]
     },
     "execution_count": 19,
     "metadata": {},
     "output_type": "execute_result"
    }
   ],
   "source": [
    "rdd.getNumPartitions()"
   ]
  },
  {
   "cell_type": "code",
   "execution_count": 20,
   "id": "18f35b74-dbdf-48bc-a133-d7f01a56faba",
   "metadata": {},
   "outputs": [
    {
     "data": {
      "text/plain": [
       "[1, 2, 3, 3]"
      ]
     },
     "execution_count": 20,
     "metadata": {},
     "output_type": "execute_result"
    }
   ],
   "source": [
    "rdd.collect()"
   ]
  },
  {
   "cell_type": "code",
   "execution_count": null,
   "id": "36953fb4-ef09-4048-a9e8-480823660021",
   "metadata": {},
   "outputs": [],
   "source": []
  },
  {
   "cell_type": "markdown",
   "id": "a4dd391e-67fa-4897-82f2-c1fe96972965",
   "metadata": {},
   "source": [
    "# RDD operations"
   ]
  },
  {
   "cell_type": "markdown",
   "id": "11b08956-5ac2-4780-a27a-a045c2b6dcba",
   "metadata": {},
   "source": [
    "## Transformation"
   ]
  },
  {
   "cell_type": "markdown",
   "id": "dabfecbc-4236-46bb-b35c-04a359ef7868",
   "metadata": {},
   "source": [
    "* Element-wise transformations\n",
    "* Transformation filter(): Takes in a function and returns an RDD that only has elements that pass the filter( ) function"
   ]
  },
  {
   "cell_type": "code",
   "execution_count": 21,
   "id": "2effc006-b519-4f76-b133-b24da8b211e7",
   "metadata": {},
   "outputs": [
    {
     "data": {
      "text/plain": [
       "[2, 3, 3]"
      ]
     },
     "execution_count": 21,
     "metadata": {},
     "output_type": "execute_result"
    }
   ],
   "source": [
    "rdd.filter(lambda x: x != 1).collect()"
   ]
  },
  {
   "cell_type": "code",
   "execution_count": null,
   "id": "07f013b2-09ce-46b2-8df4-0cbf74522c60",
   "metadata": {},
   "outputs": [],
   "source": []
  },
  {
   "cell_type": "markdown",
   "id": "fe96a89c-6be9-4519-9431-e15bbf3f37d3",
   "metadata": {},
   "source": [
    "* Element-wise transformations\n",
    "* Transformation map(): Takes in a function and applies it to each element  in the RDD with the result of the function being the new value of each element in the resulting RDD"
   ]
  },
  {
   "cell_type": "code",
   "execution_count": 22,
   "id": "95e6cd78-6bed-4a4b-be13-1a80a03ef487",
   "metadata": {},
   "outputs": [
    {
     "data": {
      "text/plain": [
       "[2, 3, 4, 4]"
      ]
     },
     "execution_count": 22,
     "metadata": {},
     "output_type": "execute_result"
    }
   ],
   "source": [
    "rdd.map(lambda x: x + 1).collect()"
   ]
  },
  {
   "cell_type": "code",
   "execution_count": 23,
   "id": "bc435dfc-048c-4c54-93d2-bcce8d346de3",
   "metadata": {},
   "outputs": [
    {
     "data": {
      "text/plain": [
       "[[1, 6], [2, 7], [3, 8], [3, 8]]"
      ]
     },
     "execution_count": 23,
     "metadata": {},
     "output_type": "execute_result"
    }
   ],
   "source": [
    "rdd.map(lambda x: [x, x + 5]).collect()"
   ]
  },
  {
   "cell_type": "code",
   "execution_count": null,
   "id": "d32232dd-a773-4cf1-ba82-34ba386c7de3",
   "metadata": {},
   "outputs": [],
   "source": []
  },
  {
   "cell_type": "code",
   "execution_count": 24,
   "id": "9d93cf4d-357f-41f6-9ee3-9f9f81b76d9a",
   "metadata": {},
   "outputs": [
    {
     "data": {
      "text/plain": [
       "[1, 6, 2, 7, 3, 8, 3, 8]"
      ]
     },
     "execution_count": 24,
     "metadata": {},
     "output_type": "execute_result"
    }
   ],
   "source": [
    "rdd.flatMap(lambda x: [x, x + 5]).collect()"
   ]
  },
  {
   "cell_type": "code",
   "execution_count": null,
   "id": "8ddbe681-ea40-43a6-942c-5fc708a7fd4e",
   "metadata": {},
   "outputs": [],
   "source": []
  },
  {
   "cell_type": "markdown",
   "id": "2b07dc56-37cb-4df3-aec2-21c670db5305",
   "metadata": {},
   "source": [
    "* Sampling Transformation\n",
    "* sample() an RDD: We can specify with or without replacement, or the fraction"
   ]
  },
  {
   "cell_type": "code",
   "execution_count": 25,
   "id": "f7addb9d-2aaa-4a24-9cba-a8cf7f78764f",
   "metadata": {},
   "outputs": [
    {
     "data": {
      "text/plain": [
       "[]"
      ]
     },
     "execution_count": 25,
     "metadata": {},
     "output_type": "execute_result"
    }
   ],
   "source": [
    "rdd.sample(False, 0.5).collect()"
   ]
  },
  {
   "cell_type": "code",
   "execution_count": null,
   "id": "0e4d9806-674d-432a-97f7-3838550c84d3",
   "metadata": {},
   "outputs": [],
   "source": []
  },
  {
   "cell_type": "markdown",
   "id": "be251a9f-4d17-462b-9dea-a381096c052e",
   "metadata": {},
   "source": [
    "* Pseudo Set Operations\n",
    "* RDDs support many operations of mathematical sets: \n",
    "* distinct, union, intersect, subtract\n",
    "* All expensive except union because they involve shuffling"
   ]
  },
  {
   "cell_type": "code",
   "execution_count": 26,
   "id": "a30729ff-8f58-434d-8fdd-c611d14007eb",
   "metadata": {},
   "outputs": [],
   "source": [
    "rdd = sc.parallelize([1, 2, 3])\n",
    "other = sc.parallelize([3, 4, 5])"
   ]
  },
  {
   "cell_type": "code",
   "execution_count": 27,
   "id": "52eacd86-c0a1-4671-b9d3-db42ca081a75",
   "metadata": {},
   "outputs": [
    {
     "data": {
      "text/plain": [
       "[1, 2, 3, 3, 4, 5]"
      ]
     },
     "execution_count": 27,
     "metadata": {},
     "output_type": "execute_result"
    }
   ],
   "source": [
    "rdd.union(other).collect()"
   ]
  },
  {
   "cell_type": "code",
   "execution_count": 28,
   "id": "015cb3cd-8b6d-4e2f-94bf-d4f49e8af82c",
   "metadata": {},
   "outputs": [
    {
     "data": {
      "text/plain": [
       "[3]"
      ]
     },
     "execution_count": 28,
     "metadata": {},
     "output_type": "execute_result"
    }
   ],
   "source": [
    "rdd.intersection(other).collect()"
   ]
  },
  {
   "cell_type": "code",
   "execution_count": 29,
   "id": "a9fed8a0-b16f-432e-8f8c-3fe48a130e9a",
   "metadata": {},
   "outputs": [
    {
     "data": {
      "text/plain": [
       "[1, 2]"
      ]
     },
     "execution_count": 29,
     "metadata": {},
     "output_type": "execute_result"
    }
   ],
   "source": [
    "rdd.subtract(other).collect()"
   ]
  },
  {
   "cell_type": "code",
   "execution_count": 30,
   "id": "16a8dcb7-01a8-4ac6-bc4d-c8fad0fcec0a",
   "metadata": {},
   "outputs": [
    {
     "data": {
      "text/plain": [
       "[(1, 3), (1, 4), (1, 5), (2, 3), (3, 3), (2, 4), (2, 5), (3, 4), (3, 5)]"
      ]
     },
     "execution_count": 30,
     "metadata": {},
     "output_type": "execute_result"
    }
   ],
   "source": [
    "rdd.cartesian(other).collect()"
   ]
  },
  {
   "cell_type": "code",
   "execution_count": null,
   "id": "7becf7a8-97b6-4be7-b54b-4d87020f688a",
   "metadata": {},
   "outputs": [],
   "source": []
  },
  {
   "cell_type": "markdown",
   "id": "b1a063c5-f2de-4314-8436-6277469e174b",
   "metadata": {},
   "source": [
    "## Actions"
   ]
  },
  {
   "cell_type": "markdown",
   "id": "54d0d64c-f438-457d-ba98-89857ee1e322",
   "metadata": {},
   "source": [
    "* fold( )\n",
    "* takes a function similarly as reduce( ) does, but takes a “zero value” to be used for initial call on each partition\n",
    "* should be the identity element for the operation\n",
    "* 0 for +, 1 for *, etc.\n",
    "* return type the same as RDD elements \n"
   ]
  },
  {
   "cell_type": "code",
   "execution_count": 31,
   "id": "727c2d6f-59b9-4b31-94d9-fc1bde4ec577",
   "metadata": {},
   "outputs": [
    {
     "data": {
      "text/plain": [
       "9"
      ]
     },
     "execution_count": 31,
     "metadata": {},
     "output_type": "execute_result"
    }
   ],
   "source": [
    "rdd = sc.parallelize([1, 2, 3, 3])\n",
    "rdd.fold(0, lambda a, b: a + b)"
   ]
  },
  {
   "cell_type": "code",
   "execution_count": null,
   "id": "945ee762-d70a-4eb3-bab8-44216e11ea24",
   "metadata": {},
   "outputs": [],
   "source": []
  },
  {
   "cell_type": "markdown",
   "id": "59fcf25d-3de0-4f77-8580-b9fb973d60aa",
   "metadata": {},
   "source": [
    "* reduce( )\n",
    "* takes a function that operates on two elements of the type in the RDD and returns a new element of the same type\n",
    "* should be commutative and associative so that it can be computed correctly in parallel"
   ]
  },
  {
   "cell_type": "code",
   "execution_count": 32,
   "id": "d8c89529-e855-4369-b9ce-ef768b3c7fb1",
   "metadata": {},
   "outputs": [
    {
     "data": {
      "text/plain": [
       "9"
      ]
     },
     "execution_count": 32,
     "metadata": {},
     "output_type": "execute_result"
    }
   ],
   "source": [
    "rdd.reduce(lambda a, b: a + b)"
   ]
  },
  {
   "cell_type": "code",
   "execution_count": null,
   "id": "ef86ea95-3d81-4e4c-9067-4f490bcd1b2a",
   "metadata": {},
   "outputs": [],
   "source": []
  },
  {
   "cell_type": "markdown",
   "id": "1149a308-13a8-4658-9440-908d46931f2b",
   "metadata": {},
   "source": [
    "aggregate( )\n",
    "* we can also supply an initial zero value of the type we want to return\n",
    "* a 1st function to combine the elements from RDD with the accumulator\n",
    "* a 2nd function to merge two accumulators given that each node accumulates its own results locally"
   ]
  },
  {
   "cell_type": "code",
   "execution_count": 33,
   "id": "2cac185a-d8e7-4ad2-be35-4cdb129258c0",
   "metadata": {},
   "outputs": [
    {
     "data": {
      "text/plain": [
       "(9, 4, 2.25)"
      ]
     },
     "execution_count": 33,
     "metadata": {},
     "output_type": "execute_result"
    }
   ],
   "source": [
    "seq_op = (lambda acc, value: (acc[0] + value, acc[1] + 1))\n",
    "comb_op = (lambda acc1, acc2: (acc1[0] + acc2[0], acc1[1] + acc2[1]))\n",
    "\n",
    "sumCount = rdd.aggregate((0, 0), seq_op, comb_op)\n",
    "sumCount[0], sumCount[1], sumCount[0]/float(sumCount[1])"
   ]
  },
  {
   "cell_type": "code",
   "execution_count": null,
   "id": "49234f7c-37ea-48ec-aa81-d60d2177a300",
   "metadata": {},
   "outputs": [],
   "source": []
  },
  {
   "cell_type": "markdown",
   "id": "5773c6d6-b4e4-48b6-abf9-91b336f87b6d",
   "metadata": {},
   "source": [
    "collect( )\n",
    "* return the entire RDD’s contents to the driver program\n",
    "\n",
    "take( )\n",
    "* returns n elements from the RDD\n",
    "* attempts to minimize the number of partitions it accesses, so may be biased\n",
    "\n",
    "top(n)\n",
    "* return the top n elements of the RDD\n",
    "\n",
    "count( )\n",
    "* returns the number of elements in the RDD"
   ]
  },
  {
   "cell_type": "code",
   "execution_count": 34,
   "id": "0988a06a-fef8-444b-a001-a8e2636b56af",
   "metadata": {},
   "outputs": [
    {
     "data": {
      "text/plain": [
       "[1, 2, 3, 3]"
      ]
     },
     "execution_count": 34,
     "metadata": {},
     "output_type": "execute_result"
    }
   ],
   "source": [
    "rdd.collect()"
   ]
  },
  {
   "cell_type": "code",
   "execution_count": 35,
   "id": "bb125dbc-3d55-4d27-89c1-a7a7c085502c",
   "metadata": {},
   "outputs": [
    {
     "data": {
      "text/plain": [
       "[1, 2]"
      ]
     },
     "execution_count": 35,
     "metadata": {},
     "output_type": "execute_result"
    }
   ],
   "source": [
    "rdd.take(2)"
   ]
  },
  {
   "cell_type": "code",
   "execution_count": 36,
   "id": "d9d905b2-4c65-47da-a5b4-c09b1f3a1b9c",
   "metadata": {},
   "outputs": [
    {
     "data": {
      "text/plain": [
       "[3, 3]"
      ]
     },
     "execution_count": 36,
     "metadata": {},
     "output_type": "execute_result"
    }
   ],
   "source": [
    "rdd.takeOrdered(2, key=lambda x: -x)"
   ]
  },
  {
   "cell_type": "code",
   "execution_count": 37,
   "id": "965c9eaf-bc0a-4d1b-9ee3-ae0f89c8ce70",
   "metadata": {},
   "outputs": [
    {
     "data": {
      "text/plain": [
       "[2]"
      ]
     },
     "execution_count": 37,
     "metadata": {},
     "output_type": "execute_result"
    }
   ],
   "source": [
    "rdd.takeSample(False, 1)"
   ]
  },
  {
   "cell_type": "code",
   "execution_count": 38,
   "id": "20c266d1-f441-40f8-90d7-37d8f2945103",
   "metadata": {},
   "outputs": [
    {
     "data": {
      "text/plain": [
       "[3, 3]"
      ]
     },
     "execution_count": 38,
     "metadata": {},
     "output_type": "execute_result"
    }
   ],
   "source": [
    "rdd.top(2)"
   ]
  },
  {
   "cell_type": "code",
   "execution_count": 39,
   "id": "89d30a44-b22d-4766-8b47-7430a535612a",
   "metadata": {},
   "outputs": [
    {
     "data": {
      "text/plain": [
       "4"
      ]
     },
     "execution_count": 39,
     "metadata": {},
     "output_type": "execute_result"
    }
   ],
   "source": [
    "rdd.count()"
   ]
  },
  {
   "cell_type": "code",
   "execution_count": 40,
   "id": "fbfb0ccc-c548-49dc-ab54-0cb1814bcd92",
   "metadata": {},
   "outputs": [
    {
     "data": {
      "text/plain": [
       "defaultdict(int, {1: 1, 2: 1, 3: 2})"
      ]
     },
     "execution_count": 40,
     "metadata": {},
     "output_type": "execute_result"
    }
   ],
   "source": [
    "rdd.countByValue()"
   ]
  },
  {
   "cell_type": "code",
   "execution_count": null,
   "id": "3ffbd4ce-6581-4181-8561-ed4a0f54d8cd",
   "metadata": {},
   "outputs": [],
   "source": []
  },
  {
   "cell_type": "markdown",
   "id": "ddf5853e-cb48-421a-b0c4-64dd43326ab5",
   "metadata": {},
   "source": [
    "# Caching RDDs"
   ]
  },
  {
   "cell_type": "code",
   "execution_count": 41,
   "id": "eae1b67b-fecf-4f33-8695-5ff6b1cc05e3",
   "metadata": {},
   "outputs": [
    {
     "data": {
      "text/plain": [
       "s3a://warehouse/testfile.txt MapPartitionsRDD[99] at textFile at NativeMethodAccessorImpl.java:0"
      ]
     },
     "execution_count": 41,
     "metadata": {},
     "output_type": "execute_result"
    }
   ],
   "source": [
    "lines = sc.textFile(\"s3a://warehouse/testfile.txt\", 4)\n",
    "lines"
   ]
  },
  {
   "cell_type": "markdown",
   "id": "bef4dcc7-a863-4519-ad34-5b56495f5d51",
   "metadata": {},
   "source": [
    "Count will cause Spark to\n",
    "* read data\n",
    "* sum within partitions\n",
    "* combine sums in driver"
   ]
  },
  {
   "cell_type": "code",
   "execution_count": 42,
   "id": "a15be3b0-4d5f-4112-8ad8-4806adc3131e",
   "metadata": {},
   "outputs": [
    {
     "data": {
      "text/plain": [
       "16"
      ]
     },
     "execution_count": 42,
     "metadata": {},
     "output_type": "execute_result"
    }
   ],
   "source": [
    "lines.count()"
   ]
  },
  {
   "cell_type": "code",
   "execution_count": 43,
   "id": "e8e18b72-5b8d-49d2-844d-112dd4c52c89",
   "metadata": {},
   "outputs": [
    {
     "data": {
      "text/plain": [
       "PythonRDD[101] at RDD at PythonRDD.scala:53"
      ]
     },
     "execution_count": 43,
     "metadata": {},
     "output_type": "execute_result"
    }
   ],
   "source": [
    "paragraphs = lines.filter(lambda x: len(x) > 0)\n",
    "paragraphs"
   ]
  },
  {
   "cell_type": "markdown",
   "id": "8e3a3736-e247-4ecf-b11f-5d5a0e3c2c86",
   "metadata": {},
   "source": [
    "Count will cause Spark to\n",
    "* read data (again)\n",
    "* sum within partitions\n",
    "* combine sums in driver"
   ]
  },
  {
   "cell_type": "code",
   "execution_count": 44,
   "id": "4438d781-fa50-4c4e-a76c-6aa60b97bc44",
   "metadata": {},
   "outputs": [
    {
     "data": {
      "text/plain": [
       "9"
      ]
     },
     "execution_count": 44,
     "metadata": {},
     "output_type": "execute_result"
    }
   ],
   "source": [
    "paragraphs.count()"
   ]
  },
  {
   "cell_type": "code",
   "execution_count": null,
   "id": "f495f6da-7f82-48a8-8f70-fbf95529ee65",
   "metadata": {},
   "outputs": [],
   "source": []
  },
  {
   "cell_type": "code",
   "execution_count": 45,
   "id": "a8991b9f-6977-4e0f-833f-f664aae8a804",
   "metadata": {},
   "outputs": [
    {
     "data": {
      "text/plain": [
       "s3a://warehouse/testfile.txt MapPartitionsRDD[104] at textFile at NativeMethodAccessorImpl.java:0"
      ]
     },
     "execution_count": 45,
     "metadata": {},
     "output_type": "execute_result"
    }
   ],
   "source": [
    "lines = sc.textFile(\"s3a://warehouse/testfile.txt\", 4)\n",
    "\n",
    "# save, don't compute\n",
    "lines.cache()"
   ]
  },
  {
   "cell_type": "code",
   "execution_count": 46,
   "id": "4b5ea976-cfa5-4910-a64b-d456de60cb9c",
   "metadata": {},
   "outputs": [
    {
     "name": "stdout",
     "output_type": "stream",
     "text": [
      "16\n"
     ]
    }
   ],
   "source": [
    "paragraphs = lines.filter(lambda x: len(x) > 0)\n",
    "print(lines.count())"
   ]
  },
  {
   "cell_type": "code",
   "execution_count": 47,
   "id": "113daf04-623f-4734-b2ce-43771a42e090",
   "metadata": {},
   "outputs": [
    {
     "name": "stdout",
     "output_type": "stream",
     "text": [
      "9\n"
     ]
    }
   ],
   "source": [
    "print(paragraphs.count())"
   ]
  },
  {
   "cell_type": "code",
   "execution_count": 48,
   "id": "ce8016e9-f1b5-41a4-a8be-bc78410854c0",
   "metadata": {},
   "outputs": [
    {
     "data": {
      "text/plain": [
       "s3a://warehouse/testfile.txt MapPartitionsRDD[104] at textFile at NativeMethodAccessorImpl.java:0"
      ]
     },
     "execution_count": 48,
     "metadata": {},
     "output_type": "execute_result"
    }
   ],
   "source": [
    "# remove from cache\n",
    "lines.unpersist()"
   ]
  },
  {
   "cell_type": "code",
   "execution_count": 49,
   "id": "4d7737f1-d42b-4fed-b048-5c1715031bd8",
   "metadata": {},
   "outputs": [],
   "source": [
    "sc.stop()"
   ]
  }
 ],
 "metadata": {
  "kernelspec": {
   "display_name": "Python 3 (ipykernel)",
   "language": "python",
   "name": "python3"
  },
  "language_info": {
   "codemirror_mode": {
    "name": "ipython",
    "version": 3
   },
   "file_extension": ".py",
   "mimetype": "text/x-python",
   "name": "python",
   "nbconvert_exporter": "python",
   "pygments_lexer": "ipython3",
   "version": "3.9.13"
  },
  "toc-autonumbering": true
 },
 "nbformat": 4,
 "nbformat_minor": 5
}
